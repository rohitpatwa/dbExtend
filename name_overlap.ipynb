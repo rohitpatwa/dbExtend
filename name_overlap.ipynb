{
 "cells": [
  {
   "cell_type": "markdown",
   "metadata": {},
   "source": [
    "### Imports"
   ]
  },
  {
   "cell_type": "code",
   "execution_count": 92,
   "metadata": {
    "ExecuteTime": {
     "end_time": "2020-01-18T20:23:37.577794Z",
     "start_time": "2020-01-18T20:23:37.564089Z"
    }
   },
   "outputs": [
    {
     "name": "stdout",
     "output_type": "stream",
     "text": [
      "The autoreload extension is already loaded. To reload it, use:\n",
      "  %reload_ext autoreload\n"
     ]
    }
   ],
   "source": [
    "import pandas as pd\n",
    "import re\n",
    "import numpy as np\n",
    "from tqdm import tqdm_notebook\n",
    "\n",
    "import glob\n",
    "\n",
    "import Levenshtein\n",
    "from mid2names import import_fiw_names\n",
    "\n",
    "from elasticsearch import Elasticsearch, helpers\n",
    "from match_names import get_confidence\n",
    "from matplotlib import pyplot as plt\n",
    "from PIL import Image\n",
    "from IPython.display import clear_output\n",
    "\n",
    "%load_ext autoreload\n",
    "%autoreload 1\n",
    "\n",
    "%aimport mid2names\n",
    "%aimport match_names"
   ]
  },
  {
   "cell_type": "markdown",
   "metadata": {},
   "source": [
    "### Create LUTs"
   ]
  },
  {
   "cell_type": "code",
   "execution_count": 2,
   "metadata": {
    "ExecuteTime": {
     "end_time": "2020-01-18T19:43:16.612009Z",
     "start_time": "2020-01-18T19:42:55.129313Z"
    }
   },
   "outputs": [
    {
     "name": "stderr",
     "output_type": "stream",
     "text": [
      "100%|██████████| 978/978 [00:21<00:00, 45.58it/s]\n"
     ]
    }
   ],
   "source": [
    "fiw_df = import_fiw_names('../FIW_DB_restructuring/fiwdb/FIDs')"
   ]
  },
  {
   "cell_type": "code",
   "execution_count": 3,
   "metadata": {
    "ExecuteTime": {
     "end_time": "2020-01-18T19:43:16.632673Z",
     "start_time": "2020-01-18T19:43:16.613448Z"
    }
   },
   "outputs": [
    {
     "data": {
      "text/html": [
       "<div>\n",
       "<style scoped>\n",
       "    .dataframe tbody tr th:only-of-type {\n",
       "        vertical-align: middle;\n",
       "    }\n",
       "\n",
       "    .dataframe tbody tr th {\n",
       "        vertical-align: top;\n",
       "    }\n",
       "\n",
       "    .dataframe thead th {\n",
       "        text-align: right;\n",
       "    }\n",
       "</style>\n",
       "<table border=\"1\" class=\"dataframe\">\n",
       "  <thead>\n",
       "    <tr style=\"text-align: right;\">\n",
       "      <th></th>\n",
       "      <th>source_db</th>\n",
       "      <th>fid</th>\n",
       "      <th>mid</th>\n",
       "      <th>gender</th>\n",
       "      <th>first</th>\n",
       "      <th>first_alias</th>\n",
       "      <th>last</th>\n",
       "      <th>last_alias</th>\n",
       "      <th>name</th>\n",
       "    </tr>\n",
       "  </thead>\n",
       "  <tbody>\n",
       "    <tr>\n",
       "      <th>0</th>\n",
       "      <td>FIW</td>\n",
       "      <td>F0001</td>\n",
       "      <td>1</td>\n",
       "      <td>m</td>\n",
       "      <td>madmoud</td>\n",
       "      <td></td>\n",
       "      <td>abbas</td>\n",
       "      <td></td>\n",
       "      <td>madmoud abbas</td>\n",
       "    </tr>\n",
       "    <tr>\n",
       "      <th>1</th>\n",
       "      <td>FIW</td>\n",
       "      <td>F0001</td>\n",
       "      <td>2</td>\n",
       "      <td>f</td>\n",
       "      <td>amina</td>\n",
       "      <td></td>\n",
       "      <td>abbas</td>\n",
       "      <td></td>\n",
       "      <td>amina abbas</td>\n",
       "    </tr>\n",
       "  </tbody>\n",
       "</table>\n",
       "</div>"
      ],
      "text/plain": [
       "  source_db    fid mid gender    first first_alias   last last_alias  \\\n",
       "0       FIW  F0001   1      m  madmoud              abbas              \n",
       "1       FIW  F0001   2      f    amina              abbas              \n",
       "\n",
       "            name  \n",
       "0  madmoud abbas  \n",
       "1    amina abbas  "
      ]
     },
     "execution_count": 3,
     "metadata": {},
     "output_type": "execute_result"
    }
   ],
   "source": [
    "fiw_df.head(2)"
   ]
  },
  {
   "cell_type": "code",
   "execution_count": 69,
   "metadata": {
    "ExecuteTime": {
     "end_time": "2020-01-06T20:18:58.425924Z",
     "start_time": "2020-01-06T20:18:58.409864Z"
    }
   },
   "outputs": [],
   "source": [
    "def create_msceleb_lut(path):\n",
    "    \n",
    "    ids, name = [], []\n",
    "    f = open(path)\n",
    "    for row in tqdm_notebook(f.readlines()):\n",
    "        r = row.split('\\t')\n",
    "        ids.append(r[0])\n",
    "        name.append(re.sub(r'\\\"(.*)\\\".*', r'\\1', r[1][:-1])) \n",
    "    df = pd.DataFrame(columns=['source_db', 'id','name'])\n",
    "    df['id'] = ids\n",
    "    df['name'] = name\n",
    "    df['source_db'] = 'msceleb'\n",
    "    df['first'] = df.name.apply(lambda x:x.split()[0])\n",
    "    df['last'] = df.name.apply(lambda x:x.split()[-1])\n",
    "    return df"
   ]
  },
  {
   "cell_type": "code",
   "execution_count": 70,
   "metadata": {
    "ExecuteTime": {
     "end_time": "2020-01-06T20:19:12.853953Z",
     "start_time": "2020-01-06T20:19:01.031545Z"
    }
   },
   "outputs": [
    {
     "data": {
      "application/vnd.jupyter.widget-view+json": {
       "model_id": "6e084797785b4e36be278227de7f2884"
      }
     },
     "metadata": {},
     "output_type": "display_data"
    },
    {
     "name": "stdout",
     "output_type": "stream",
     "text": [
      "\n"
     ]
    }
   ],
   "source": [
    "msceleb_df = create_msceleb_lut('../msceleb/name.en')"
   ]
  },
  {
   "cell_type": "code",
   "execution_count": 72,
   "metadata": {
    "ExecuteTime": {
     "end_time": "2020-01-06T20:19:44.862984Z",
     "start_time": "2020-01-06T20:19:44.845784Z"
    }
   },
   "outputs": [
    {
     "data": {
      "text/html": [
       "<div>\n",
       "<style scoped>\n",
       "    .dataframe tbody tr th:only-of-type {\n",
       "        vertical-align: middle;\n",
       "    }\n",
       "\n",
       "    .dataframe tbody tr th {\n",
       "        vertical-align: top;\n",
       "    }\n",
       "\n",
       "    .dataframe thead th {\n",
       "        text-align: right;\n",
       "    }\n",
       "</style>\n",
       "<table border=\"1\" class=\"dataframe\">\n",
       "  <thead>\n",
       "    <tr style=\"text-align: right;\">\n",
       "      <th></th>\n",
       "      <th>source_db</th>\n",
       "      <th>id</th>\n",
       "      <th>name</th>\n",
       "      <th>first</th>\n",
       "      <th>last</th>\n",
       "    </tr>\n",
       "  </thead>\n",
       "  <tbody>\n",
       "    <tr>\n",
       "      <td>0</td>\n",
       "      <td>msceleb</td>\n",
       "      <td>m.01008l47</td>\n",
       "      <td>Patrick Cummins</td>\n",
       "      <td>Patrick</td>\n",
       "      <td>Cummins</td>\n",
       "    </tr>\n",
       "    <tr>\n",
       "      <td>1</td>\n",
       "      <td>msceleb</td>\n",
       "      <td>m.01008l96</td>\n",
       "      <td>Mohamed Guessous</td>\n",
       "      <td>Mohamed</td>\n",
       "      <td>Guessous</td>\n",
       "    </tr>\n",
       "  </tbody>\n",
       "</table>\n",
       "</div>"
      ],
      "text/plain": [
       "  source_db          id              name    first      last\n",
       "0   msceleb  m.01008l47   Patrick Cummins  Patrick   Cummins\n",
       "1   msceleb  m.01008l96  Mohamed Guessous  Mohamed  Guessous"
      ]
     },
     "execution_count": 72,
     "metadata": {},
     "output_type": "execute_result"
    }
   ],
   "source": [
    "msceleb_df.head(2)"
   ]
  },
  {
   "cell_type": "code",
   "execution_count": 4,
   "metadata": {
    "ExecuteTime": {
     "end_time": "2020-01-18T19:43:16.640226Z",
     "start_time": "2020-01-18T19:43:16.635099Z"
    }
   },
   "outputs": [],
   "source": [
    "import os"
   ]
  },
  {
   "cell_type": "code",
   "execution_count": 112,
   "metadata": {
    "ExecuteTime": {
     "end_time": "2020-01-06T21:24:31.904377Z",
     "start_time": "2020-01-06T21:24:31.891579Z"
    }
   },
   "outputs": [],
   "source": [
    "def create_vggface_lut(path):\n",
    "    files = os.listdir(path)\n",
    "    names= []\n",
    "    for f in tqdm_notebook(files):\n",
    "        n = f.replace('.txt', '').replace('_', ' ')\n",
    "        names.append(n)\n",
    "    df = pd.DataFrame(columns=['source_db', 'name', 'first', 'last'])\n",
    "    df['name'] = names\n",
    "    df['source_db'] = 'vggface'\n",
    "    df['first'] = df.name.apply(lambda x:x.split()[0])\n",
    "    df['last'] = df.name.apply(lambda x:x.split()[-1])\n",
    "    return df"
   ]
  },
  {
   "cell_type": "code",
   "execution_count": 113,
   "metadata": {
    "ExecuteTime": {
     "end_time": "2020-01-06T21:24:32.257538Z",
     "start_time": "2020-01-06T21:24:32.192613Z"
    }
   },
   "outputs": [
    {
     "data": {
      "application/vnd.jupyter.widget-view+json": {
       "model_id": "3ef24aa2d66d4da4b5220b47b0d9718d"
      }
     },
     "metadata": {},
     "output_type": "display_data"
    },
    {
     "name": "stdout",
     "output_type": "stream",
     "text": [
      "\n"
     ]
    }
   ],
   "source": [
    "vggface_df = create_vggface_lut('../vgg_face_dataset/vgg_face_dataset/files/')"
   ]
  },
  {
   "cell_type": "code",
   "execution_count": 116,
   "metadata": {
    "ExecuteTime": {
     "end_time": "2020-01-06T21:24:50.938491Z",
     "start_time": "2020-01-06T21:24:50.932202Z"
    }
   },
   "outputs": [
    {
     "data": {
      "text/plain": [
       "(2622, 4)"
      ]
     },
     "execution_count": 116,
     "metadata": {},
     "output_type": "execute_result"
    }
   ],
   "source": [
    "vggface_df.shape"
   ]
  },
  {
   "cell_type": "code",
   "execution_count": 131,
   "metadata": {
    "ExecuteTime": {
     "end_time": "2020-01-06T21:39:58.029636Z",
     "start_time": "2020-01-06T21:39:57.970305Z"
    }
   },
   "outputs": [],
   "source": []
  },
  {
   "cell_type": "code",
   "execution_count": 136,
   "metadata": {
    "ExecuteTime": {
     "end_time": "2020-01-06T21:41:40.421596Z",
     "start_time": "2020-01-06T21:41:40.410665Z"
    }
   },
   "outputs": [],
   "source": [
    "def create_webface_lut(path):\n",
    "    ids, name = [], []\n",
    "    f = open(path)\n",
    "    for row in tqdm_notebook(f.readlines()):\n",
    "        r = row.split()\n",
    "        ids.append(r[0])\n",
    "        name.append(r[1].replace('_', ' ')) \n",
    "    df = pd.DataFrame(columns=['source_db', 'id','name'])\n",
    "    df['id'] = ids\n",
    "    df['name'] = name\n",
    "    df['source_db'] = 'webface'\n",
    "    df['first'] = df.name.apply(lambda x:x.split()[0])\n",
    "    df['last'] = df.name.apply(lambda x:x.split()[-1])\n",
    "    return df"
   ]
  },
  {
   "cell_type": "code",
   "execution_count": 137,
   "metadata": {
    "ExecuteTime": {
     "end_time": "2020-01-06T21:42:09.643655Z",
     "start_time": "2020-01-06T21:42:08.970813Z"
    }
   },
   "outputs": [
    {
     "data": {
      "application/vnd.jupyter.widget-view+json": {
       "model_id": "080e49915c464128a37b9013b7dc3252"
      }
     },
     "metadata": {},
     "output_type": "display_data"
    },
    {
     "name": "stdout",
     "output_type": "stream",
     "text": [
      "\n"
     ]
    }
   ],
   "source": [
    "webface_df = create_webface_lut('/home/rohit/Documents/NEU/SMILE/webface_id_name_list.txt')"
   ]
  },
  {
   "cell_type": "code",
   "execution_count": 141,
   "metadata": {
    "ExecuteTime": {
     "end_time": "2020-01-06T21:44:01.287698Z",
     "start_time": "2020-01-06T21:44:01.274059Z"
    }
   },
   "outputs": [
    {
     "data": {
      "text/html": [
       "<div>\n",
       "<style scoped>\n",
       "    .dataframe tbody tr th:only-of-type {\n",
       "        vertical-align: middle;\n",
       "    }\n",
       "\n",
       "    .dataframe tbody tr th {\n",
       "        vertical-align: top;\n",
       "    }\n",
       "\n",
       "    .dataframe thead th {\n",
       "        text-align: right;\n",
       "    }\n",
       "</style>\n",
       "<table border=\"1\" class=\"dataframe\">\n",
       "  <thead>\n",
       "    <tr style=\"text-align: right;\">\n",
       "      <th></th>\n",
       "      <th>source_db</th>\n",
       "      <th>id</th>\n",
       "      <th>name</th>\n",
       "      <th>first</th>\n",
       "      <th>last</th>\n",
       "    </tr>\n",
       "  </thead>\n",
       "  <tbody>\n",
       "    <tr>\n",
       "      <td>0</td>\n",
       "      <td>webface</td>\n",
       "      <td>0000045</td>\n",
       "      <td>Bruce Lee</td>\n",
       "      <td>Bruce</td>\n",
       "      <td>Lee</td>\n",
       "    </tr>\n",
       "    <tr>\n",
       "      <td>1</td>\n",
       "      <td>webface</td>\n",
       "      <td>0000099</td>\n",
       "      <td>Patricia Arquette</td>\n",
       "      <td>Patricia</td>\n",
       "      <td>Arquette</td>\n",
       "    </tr>\n",
       "  </tbody>\n",
       "</table>\n",
       "</div>"
      ],
      "text/plain": [
       "  source_db       id               name     first      last\n",
       "0   webface  0000045          Bruce Lee     Bruce       Lee\n",
       "1   webface  0000099  Patricia Arquette  Patricia  Arquette"
      ]
     },
     "execution_count": 141,
     "metadata": {},
     "output_type": "execute_result"
    }
   ],
   "source": [
    "webface_df.head(2)"
   ]
  },
  {
   "cell_type": "code",
   "execution_count": null,
   "metadata": {},
   "outputs": [],
   "source": []
  },
  {
   "cell_type": "code",
   "execution_count": 1,
   "metadata": {
    "ExecuteTime": {
     "end_time": "2020-01-22T21:34:43.596033Z",
     "start_time": "2020-01-22T21:34:43.589586Z"
    }
   },
   "outputs": [],
   "source": [
    "def create_celeba_lut(path):\n",
    "    ids, name = [], []\n",
    "    with open(path) as f:\n",
    "        next(f)\n",
    "        next(f)\n",
    "        for row in f.readlines():\n",
    "            r = row.split()\n",
    "            ids.append(r[0])\n",
    "            name.append(re.sub(r'_', r' ', r[1]))\n",
    "        df = pd.DataFrame(columns=['source_db', 'id','name'])\n",
    "        df['id'] = ids\n",
    "        df['name'] = name\n",
    "        df['source_db'] = 'msceleb'\n",
    "        df['first'] = df.name.apply(lambda x:x.split()[0])\n",
    "        df['last'] = df.name.apply(lambda x:x.split()[-1])\n",
    "    return df"
   ]
  },
  {
   "cell_type": "code",
   "execution_count": 6,
   "metadata": {
    "ExecuteTime": {
     "end_time": "2020-01-18T19:43:19.764068Z",
     "start_time": "2020-01-18T19:43:19.396479Z"
    }
   },
   "outputs": [],
   "source": [
    "celeba_df = create_celeba_lut('../celebA/list_identity_celeba.txt')"
   ]
  },
  {
   "cell_type": "markdown",
   "metadata": {},
   "source": [
    "### Index db2 in ES"
   ]
  },
  {
   "cell_type": "code",
   "execution_count": 7,
   "metadata": {
    "ExecuteTime": {
     "end_time": "2020-01-18T19:43:21.551138Z",
     "start_time": "2020-01-18T19:43:21.548492Z"
    }
   },
   "outputs": [],
   "source": [
    "es = Elasticsearch()"
   ]
  },
  {
   "cell_type": "code",
   "execution_count": 76,
   "metadata": {
    "ExecuteTime": {
     "end_time": "2020-01-06T20:22:26.138695Z",
     "start_time": "2020-01-06T20:22:14.773558Z"
    },
    "collapsed": true
   },
   "outputs": [
    {
     "data": {
      "application/vnd.jupyter.widget-view+json": {
       "model_id": "a3598f7f86c44fb79bb512a8f9bb0b3a"
      }
     },
     "metadata": {},
     "output_type": "display_data"
    },
    {
     "ename": "KeyboardInterrupt",
     "evalue": "",
     "output_type": "error",
     "traceback": [
      "\u001b[0;31m---------------------------------------------------------------------------\u001b[0m",
      "\u001b[0;31mKeyboardInterrupt\u001b[0m                         Traceback (most recent call last)",
      "\u001b[0;32m<ipython-input-76-1d28ebb93e2a>\u001b[0m in \u001b[0;36m<module>\u001b[0;34m()\u001b[0m\n\u001b[1;32m      2\u001b[0m     \u001b[0mname\u001b[0m \u001b[0;34m=\u001b[0m \u001b[0mmsceleb_df\u001b[0m\u001b[0;34m.\u001b[0m\u001b[0mloc\u001b[0m\u001b[0;34m[\u001b[0m\u001b[0mi\u001b[0m\u001b[0;34m,\u001b[0m \u001b[0;34m\"name\"\u001b[0m\u001b[0;34m]\u001b[0m\u001b[0;34m\u001b[0m\u001b[0;34m\u001b[0m\u001b[0m\n\u001b[1;32m      3\u001b[0m     \u001b[0mdoc\u001b[0m \u001b[0;34m=\u001b[0m \u001b[0;34m{\u001b[0m\u001b[0;34m'name'\u001b[0m\u001b[0;34m:\u001b[0m\u001b[0mname\u001b[0m\u001b[0;34m}\u001b[0m\u001b[0;34m\u001b[0m\u001b[0;34m\u001b[0m\u001b[0m\n\u001b[0;32m----> 4\u001b[0;31m     \u001b[0mes\u001b[0m\u001b[0;34m.\u001b[0m\u001b[0mindex\u001b[0m\u001b[0;34m(\u001b[0m\u001b[0mindex\u001b[0m\u001b[0;34m=\u001b[0m\u001b[0;34m'msceleb'\u001b[0m\u001b[0;34m,\u001b[0m \u001b[0mdoc_type\u001b[0m\u001b[0;34m=\u001b[0m\u001b[0;34m'document'\u001b[0m\u001b[0;34m,\u001b[0m \u001b[0mbody\u001b[0m\u001b[0;34m=\u001b[0m\u001b[0mdoc\u001b[0m\u001b[0;34m,\u001b[0m \u001b[0mid\u001b[0m\u001b[0;34m=\u001b[0m\u001b[0mi\u001b[0m\u001b[0;34m)\u001b[0m\u001b[0;34m\u001b[0m\u001b[0;34m\u001b[0m\u001b[0m\n\u001b[0m",
      "\u001b[0;32m/home/rohit/.local/lib/python3.6/site-packages/elasticsearch/client/utils.py\u001b[0m in \u001b[0;36m_wrapped\u001b[0;34m(*args, **kwargs)\u001b[0m\n\u001b[1;32m     82\u001b[0m                 \u001b[0;32mif\u001b[0m \u001b[0mp\u001b[0m \u001b[0;32min\u001b[0m \u001b[0mkwargs\u001b[0m\u001b[0;34m:\u001b[0m\u001b[0;34m\u001b[0m\u001b[0;34m\u001b[0m\u001b[0m\n\u001b[1;32m     83\u001b[0m                     \u001b[0mparams\u001b[0m\u001b[0;34m[\u001b[0m\u001b[0mp\u001b[0m\u001b[0;34m]\u001b[0m \u001b[0;34m=\u001b[0m \u001b[0mkwargs\u001b[0m\u001b[0;34m.\u001b[0m\u001b[0mpop\u001b[0m\u001b[0;34m(\u001b[0m\u001b[0mp\u001b[0m\u001b[0;34m)\u001b[0m\u001b[0;34m\u001b[0m\u001b[0;34m\u001b[0m\u001b[0m\n\u001b[0;32m---> 84\u001b[0;31m             \u001b[0;32mreturn\u001b[0m \u001b[0mfunc\u001b[0m\u001b[0;34m(\u001b[0m\u001b[0;34m*\u001b[0m\u001b[0margs\u001b[0m\u001b[0;34m,\u001b[0m \u001b[0mparams\u001b[0m\u001b[0;34m=\u001b[0m\u001b[0mparams\u001b[0m\u001b[0;34m,\u001b[0m \u001b[0;34m**\u001b[0m\u001b[0mkwargs\u001b[0m\u001b[0;34m)\u001b[0m\u001b[0;34m\u001b[0m\u001b[0;34m\u001b[0m\u001b[0m\n\u001b[0m\u001b[1;32m     85\u001b[0m \u001b[0;34m\u001b[0m\u001b[0m\n\u001b[1;32m     86\u001b[0m         \u001b[0;32mreturn\u001b[0m \u001b[0m_wrapped\u001b[0m\u001b[0;34m\u001b[0m\u001b[0;34m\u001b[0m\u001b[0m\n",
      "\u001b[0;32m/home/rohit/.local/lib/python3.6/site-packages/elasticsearch/client/__init__.py\u001b[0m in \u001b[0;36mindex\u001b[0;34m(self, index, body, doc_type, id, params)\u001b[0m\n\u001b[1;32m    368\u001b[0m                 \u001b[0;32mraise\u001b[0m \u001b[0mValueError\u001b[0m\u001b[0;34m(\u001b[0m\u001b[0;34m\"Empty value passed for a required argument.\"\u001b[0m\u001b[0;34m)\u001b[0m\u001b[0;34m\u001b[0m\u001b[0;34m\u001b[0m\u001b[0m\n\u001b[1;32m    369\u001b[0m         return self.transport.perform_request(\n\u001b[0;32m--> 370\u001b[0;31m             \u001b[0;34m\"POST\"\u001b[0m\u001b[0;34m,\u001b[0m \u001b[0m_make_path\u001b[0m\u001b[0;34m(\u001b[0m\u001b[0mindex\u001b[0m\u001b[0;34m,\u001b[0m \u001b[0mdoc_type\u001b[0m\u001b[0;34m,\u001b[0m \u001b[0mid\u001b[0m\u001b[0;34m)\u001b[0m\u001b[0;34m,\u001b[0m \u001b[0mparams\u001b[0m\u001b[0;34m=\u001b[0m\u001b[0mparams\u001b[0m\u001b[0;34m,\u001b[0m \u001b[0mbody\u001b[0m\u001b[0;34m=\u001b[0m\u001b[0mbody\u001b[0m\u001b[0;34m\u001b[0m\u001b[0;34m\u001b[0m\u001b[0m\n\u001b[0m\u001b[1;32m    371\u001b[0m         )\n\u001b[1;32m    372\u001b[0m \u001b[0;34m\u001b[0m\u001b[0m\n",
      "\u001b[0;32m/home/rohit/.local/lib/python3.6/site-packages/elasticsearch/transport.py\u001b[0m in \u001b[0;36mperform_request\u001b[0;34m(self, method, url, headers, params, body)\u001b[0m\n\u001b[1;32m    356\u001b[0m                     \u001b[0mheaders\u001b[0m\u001b[0;34m=\u001b[0m\u001b[0mheaders\u001b[0m\u001b[0;34m,\u001b[0m\u001b[0;34m\u001b[0m\u001b[0;34m\u001b[0m\u001b[0m\n\u001b[1;32m    357\u001b[0m                     \u001b[0mignore\u001b[0m\u001b[0;34m=\u001b[0m\u001b[0mignore\u001b[0m\u001b[0;34m,\u001b[0m\u001b[0;34m\u001b[0m\u001b[0;34m\u001b[0m\u001b[0m\n\u001b[0;32m--> 358\u001b[0;31m                     \u001b[0mtimeout\u001b[0m\u001b[0;34m=\u001b[0m\u001b[0mtimeout\u001b[0m\u001b[0;34m,\u001b[0m\u001b[0;34m\u001b[0m\u001b[0;34m\u001b[0m\u001b[0m\n\u001b[0m\u001b[1;32m    359\u001b[0m                 )\n\u001b[1;32m    360\u001b[0m \u001b[0;34m\u001b[0m\u001b[0m\n",
      "\u001b[0;32m/home/rohit/.local/lib/python3.6/site-packages/elasticsearch/connection/http_urllib3.py\u001b[0m in \u001b[0;36mperform_request\u001b[0;34m(self, method, url, params, body, timeout, ignore, headers)\u001b[0m\n\u001b[1;32m    236\u001b[0m \u001b[0;34m\u001b[0m\u001b[0m\n\u001b[1;32m    237\u001b[0m             response = self.pool.urlopen(\n\u001b[0;32m--> 238\u001b[0;31m                 \u001b[0mmethod\u001b[0m\u001b[0;34m,\u001b[0m \u001b[0murl\u001b[0m\u001b[0;34m,\u001b[0m \u001b[0mbody\u001b[0m\u001b[0;34m,\u001b[0m \u001b[0mretries\u001b[0m\u001b[0;34m=\u001b[0m\u001b[0mRetry\u001b[0m\u001b[0;34m(\u001b[0m\u001b[0;32mFalse\u001b[0m\u001b[0;34m)\u001b[0m\u001b[0;34m,\u001b[0m \u001b[0mheaders\u001b[0m\u001b[0;34m=\u001b[0m\u001b[0mrequest_headers\u001b[0m\u001b[0;34m,\u001b[0m \u001b[0;34m**\u001b[0m\u001b[0mkw\u001b[0m\u001b[0;34m\u001b[0m\u001b[0;34m\u001b[0m\u001b[0m\n\u001b[0m\u001b[1;32m    239\u001b[0m             )\n\u001b[1;32m    240\u001b[0m             \u001b[0mduration\u001b[0m \u001b[0;34m=\u001b[0m \u001b[0mtime\u001b[0m\u001b[0;34m.\u001b[0m\u001b[0mtime\u001b[0m\u001b[0;34m(\u001b[0m\u001b[0;34m)\u001b[0m \u001b[0;34m-\u001b[0m \u001b[0mstart\u001b[0m\u001b[0;34m\u001b[0m\u001b[0;34m\u001b[0m\u001b[0m\n",
      "\u001b[0;32m/home/rohit/.local/lib/python3.6/site-packages/urllib3/connectionpool.py\u001b[0m in \u001b[0;36murlopen\u001b[0;34m(self, method, url, body, headers, retries, redirect, assert_same_host, timeout, pool_timeout, release_conn, chunked, body_pos, **response_kw)\u001b[0m\n\u001b[1;32m    670\u001b[0m                 \u001b[0mbody\u001b[0m\u001b[0;34m=\u001b[0m\u001b[0mbody\u001b[0m\u001b[0;34m,\u001b[0m\u001b[0;34m\u001b[0m\u001b[0;34m\u001b[0m\u001b[0m\n\u001b[1;32m    671\u001b[0m                 \u001b[0mheaders\u001b[0m\u001b[0;34m=\u001b[0m\u001b[0mheaders\u001b[0m\u001b[0;34m,\u001b[0m\u001b[0;34m\u001b[0m\u001b[0;34m\u001b[0m\u001b[0m\n\u001b[0;32m--> 672\u001b[0;31m                 \u001b[0mchunked\u001b[0m\u001b[0;34m=\u001b[0m\u001b[0mchunked\u001b[0m\u001b[0;34m,\u001b[0m\u001b[0;34m\u001b[0m\u001b[0;34m\u001b[0m\u001b[0m\n\u001b[0m\u001b[1;32m    673\u001b[0m             )\n\u001b[1;32m    674\u001b[0m \u001b[0;34m\u001b[0m\u001b[0m\n",
      "\u001b[0;32m/home/rohit/.local/lib/python3.6/site-packages/urllib3/connectionpool.py\u001b[0m in \u001b[0;36m_make_request\u001b[0;34m(self, conn, method, url, timeout, chunked, **httplib_request_kw)\u001b[0m\n\u001b[1;32m    419\u001b[0m                     \u001b[0;31m# Python 3 (including for exceptions like SystemExit).\u001b[0m\u001b[0;34m\u001b[0m\u001b[0;34m\u001b[0m\u001b[0;34m\u001b[0m\u001b[0m\n\u001b[1;32m    420\u001b[0m                     \u001b[0;31m# Otherwise it looks like a bug in the code.\u001b[0m\u001b[0;34m\u001b[0m\u001b[0;34m\u001b[0m\u001b[0;34m\u001b[0m\u001b[0m\n\u001b[0;32m--> 421\u001b[0;31m                     \u001b[0msix\u001b[0m\u001b[0;34m.\u001b[0m\u001b[0mraise_from\u001b[0m\u001b[0;34m(\u001b[0m\u001b[0me\u001b[0m\u001b[0;34m,\u001b[0m \u001b[0;32mNone\u001b[0m\u001b[0;34m)\u001b[0m\u001b[0;34m\u001b[0m\u001b[0;34m\u001b[0m\u001b[0m\n\u001b[0m\u001b[1;32m    422\u001b[0m         \u001b[0;32mexcept\u001b[0m \u001b[0;34m(\u001b[0m\u001b[0mSocketTimeout\u001b[0m\u001b[0;34m,\u001b[0m \u001b[0mBaseSSLError\u001b[0m\u001b[0;34m,\u001b[0m \u001b[0mSocketError\u001b[0m\u001b[0;34m)\u001b[0m \u001b[0;32mas\u001b[0m \u001b[0me\u001b[0m\u001b[0;34m:\u001b[0m\u001b[0;34m\u001b[0m\u001b[0;34m\u001b[0m\u001b[0m\n\u001b[1;32m    423\u001b[0m             \u001b[0mself\u001b[0m\u001b[0;34m.\u001b[0m\u001b[0m_raise_timeout\u001b[0m\u001b[0;34m(\u001b[0m\u001b[0merr\u001b[0m\u001b[0;34m=\u001b[0m\u001b[0me\u001b[0m\u001b[0;34m,\u001b[0m \u001b[0murl\u001b[0m\u001b[0;34m=\u001b[0m\u001b[0murl\u001b[0m\u001b[0;34m,\u001b[0m \u001b[0mtimeout_value\u001b[0m\u001b[0;34m=\u001b[0m\u001b[0mread_timeout\u001b[0m\u001b[0;34m)\u001b[0m\u001b[0;34m\u001b[0m\u001b[0;34m\u001b[0m\u001b[0m\n",
      "\u001b[0;32m/home/rohit/.local/lib/python3.6/site-packages/urllib3/packages/six.py\u001b[0m in \u001b[0;36mraise_from\u001b[0;34m(value, from_value)\u001b[0m\n",
      "\u001b[0;32m/home/rohit/.local/lib/python3.6/site-packages/urllib3/connectionpool.py\u001b[0m in \u001b[0;36m_make_request\u001b[0;34m(self, conn, method, url, timeout, chunked, **httplib_request_kw)\u001b[0m\n\u001b[1;32m    414\u001b[0m                 \u001b[0;31m# Python 3\u001b[0m\u001b[0;34m\u001b[0m\u001b[0;34m\u001b[0m\u001b[0;34m\u001b[0m\u001b[0m\n\u001b[1;32m    415\u001b[0m                 \u001b[0;32mtry\u001b[0m\u001b[0;34m:\u001b[0m\u001b[0;34m\u001b[0m\u001b[0;34m\u001b[0m\u001b[0m\n\u001b[0;32m--> 416\u001b[0;31m                     \u001b[0mhttplib_response\u001b[0m \u001b[0;34m=\u001b[0m \u001b[0mconn\u001b[0m\u001b[0;34m.\u001b[0m\u001b[0mgetresponse\u001b[0m\u001b[0;34m(\u001b[0m\u001b[0;34m)\u001b[0m\u001b[0;34m\u001b[0m\u001b[0;34m\u001b[0m\u001b[0m\n\u001b[0m\u001b[1;32m    417\u001b[0m                 \u001b[0;32mexcept\u001b[0m \u001b[0mBaseException\u001b[0m \u001b[0;32mas\u001b[0m \u001b[0me\u001b[0m\u001b[0;34m:\u001b[0m\u001b[0;34m\u001b[0m\u001b[0;34m\u001b[0m\u001b[0m\n\u001b[1;32m    418\u001b[0m                     \u001b[0;31m# Remove the TypeError from the exception chain in\u001b[0m\u001b[0;34m\u001b[0m\u001b[0;34m\u001b[0m\u001b[0;34m\u001b[0m\u001b[0m\n",
      "\u001b[0;32m/usr/lib/python3.6/http/client.py\u001b[0m in \u001b[0;36mgetresponse\u001b[0;34m(self)\u001b[0m\n\u001b[1;32m   1344\u001b[0m         \u001b[0;32mtry\u001b[0m\u001b[0;34m:\u001b[0m\u001b[0;34m\u001b[0m\u001b[0;34m\u001b[0m\u001b[0m\n\u001b[1;32m   1345\u001b[0m             \u001b[0;32mtry\u001b[0m\u001b[0;34m:\u001b[0m\u001b[0;34m\u001b[0m\u001b[0;34m\u001b[0m\u001b[0m\n\u001b[0;32m-> 1346\u001b[0;31m                 \u001b[0mresponse\u001b[0m\u001b[0;34m.\u001b[0m\u001b[0mbegin\u001b[0m\u001b[0;34m(\u001b[0m\u001b[0;34m)\u001b[0m\u001b[0;34m\u001b[0m\u001b[0;34m\u001b[0m\u001b[0m\n\u001b[0m\u001b[1;32m   1347\u001b[0m             \u001b[0;32mexcept\u001b[0m \u001b[0mConnectionError\u001b[0m\u001b[0;34m:\u001b[0m\u001b[0;34m\u001b[0m\u001b[0;34m\u001b[0m\u001b[0m\n\u001b[1;32m   1348\u001b[0m                 \u001b[0mself\u001b[0m\u001b[0;34m.\u001b[0m\u001b[0mclose\u001b[0m\u001b[0;34m(\u001b[0m\u001b[0;34m)\u001b[0m\u001b[0;34m\u001b[0m\u001b[0;34m\u001b[0m\u001b[0m\n",
      "\u001b[0;32m/usr/lib/python3.6/http/client.py\u001b[0m in \u001b[0;36mbegin\u001b[0;34m(self)\u001b[0m\n\u001b[1;32m    305\u001b[0m         \u001b[0;31m# read until we get a non-100 response\u001b[0m\u001b[0;34m\u001b[0m\u001b[0;34m\u001b[0m\u001b[0;34m\u001b[0m\u001b[0m\n\u001b[1;32m    306\u001b[0m         \u001b[0;32mwhile\u001b[0m \u001b[0;32mTrue\u001b[0m\u001b[0;34m:\u001b[0m\u001b[0;34m\u001b[0m\u001b[0;34m\u001b[0m\u001b[0m\n\u001b[0;32m--> 307\u001b[0;31m             \u001b[0mversion\u001b[0m\u001b[0;34m,\u001b[0m \u001b[0mstatus\u001b[0m\u001b[0;34m,\u001b[0m \u001b[0mreason\u001b[0m \u001b[0;34m=\u001b[0m \u001b[0mself\u001b[0m\u001b[0;34m.\u001b[0m\u001b[0m_read_status\u001b[0m\u001b[0;34m(\u001b[0m\u001b[0;34m)\u001b[0m\u001b[0;34m\u001b[0m\u001b[0;34m\u001b[0m\u001b[0m\n\u001b[0m\u001b[1;32m    308\u001b[0m             \u001b[0;32mif\u001b[0m \u001b[0mstatus\u001b[0m \u001b[0;34m!=\u001b[0m \u001b[0mCONTINUE\u001b[0m\u001b[0;34m:\u001b[0m\u001b[0;34m\u001b[0m\u001b[0;34m\u001b[0m\u001b[0m\n\u001b[1;32m    309\u001b[0m                 \u001b[0;32mbreak\u001b[0m\u001b[0;34m\u001b[0m\u001b[0;34m\u001b[0m\u001b[0m\n",
      "\u001b[0;32m/usr/lib/python3.6/http/client.py\u001b[0m in \u001b[0;36m_read_status\u001b[0;34m(self)\u001b[0m\n\u001b[1;32m    266\u001b[0m \u001b[0;34m\u001b[0m\u001b[0m\n\u001b[1;32m    267\u001b[0m     \u001b[0;32mdef\u001b[0m \u001b[0m_read_status\u001b[0m\u001b[0;34m(\u001b[0m\u001b[0mself\u001b[0m\u001b[0;34m)\u001b[0m\u001b[0;34m:\u001b[0m\u001b[0;34m\u001b[0m\u001b[0;34m\u001b[0m\u001b[0m\n\u001b[0;32m--> 268\u001b[0;31m         \u001b[0mline\u001b[0m \u001b[0;34m=\u001b[0m \u001b[0mstr\u001b[0m\u001b[0;34m(\u001b[0m\u001b[0mself\u001b[0m\u001b[0;34m.\u001b[0m\u001b[0mfp\u001b[0m\u001b[0;34m.\u001b[0m\u001b[0mreadline\u001b[0m\u001b[0;34m(\u001b[0m\u001b[0m_MAXLINE\u001b[0m \u001b[0;34m+\u001b[0m \u001b[0;36m1\u001b[0m\u001b[0;34m)\u001b[0m\u001b[0;34m,\u001b[0m \u001b[0;34m\"iso-8859-1\"\u001b[0m\u001b[0;34m)\u001b[0m\u001b[0;34m\u001b[0m\u001b[0;34m\u001b[0m\u001b[0m\n\u001b[0m\u001b[1;32m    269\u001b[0m         \u001b[0;32mif\u001b[0m \u001b[0mlen\u001b[0m\u001b[0;34m(\u001b[0m\u001b[0mline\u001b[0m\u001b[0;34m)\u001b[0m \u001b[0;34m>\u001b[0m \u001b[0m_MAXLINE\u001b[0m\u001b[0;34m:\u001b[0m\u001b[0;34m\u001b[0m\u001b[0;34m\u001b[0m\u001b[0m\n\u001b[1;32m    270\u001b[0m             \u001b[0;32mraise\u001b[0m \u001b[0mLineTooLong\u001b[0m\u001b[0;34m(\u001b[0m\u001b[0;34m\"status line\"\u001b[0m\u001b[0;34m)\u001b[0m\u001b[0;34m\u001b[0m\u001b[0;34m\u001b[0m\u001b[0m\n",
      "\u001b[0;32m/usr/lib/python3.6/socket.py\u001b[0m in \u001b[0;36mreadinto\u001b[0;34m(self, b)\u001b[0m\n\u001b[1;32m    584\u001b[0m         \u001b[0;32mwhile\u001b[0m \u001b[0;32mTrue\u001b[0m\u001b[0;34m:\u001b[0m\u001b[0;34m\u001b[0m\u001b[0;34m\u001b[0m\u001b[0m\n\u001b[1;32m    585\u001b[0m             \u001b[0;32mtry\u001b[0m\u001b[0;34m:\u001b[0m\u001b[0;34m\u001b[0m\u001b[0;34m\u001b[0m\u001b[0m\n\u001b[0;32m--> 586\u001b[0;31m                 \u001b[0;32mreturn\u001b[0m \u001b[0mself\u001b[0m\u001b[0;34m.\u001b[0m\u001b[0m_sock\u001b[0m\u001b[0;34m.\u001b[0m\u001b[0mrecv_into\u001b[0m\u001b[0;34m(\u001b[0m\u001b[0mb\u001b[0m\u001b[0;34m)\u001b[0m\u001b[0;34m\u001b[0m\u001b[0;34m\u001b[0m\u001b[0m\n\u001b[0m\u001b[1;32m    587\u001b[0m             \u001b[0;32mexcept\u001b[0m \u001b[0mtimeout\u001b[0m\u001b[0;34m:\u001b[0m\u001b[0;34m\u001b[0m\u001b[0;34m\u001b[0m\u001b[0m\n\u001b[1;32m    588\u001b[0m                 \u001b[0mself\u001b[0m\u001b[0;34m.\u001b[0m\u001b[0m_timeout_occurred\u001b[0m \u001b[0;34m=\u001b[0m \u001b[0;32mTrue\u001b[0m\u001b[0;34m\u001b[0m\u001b[0;34m\u001b[0m\u001b[0m\n",
      "\u001b[0;31mKeyboardInterrupt\u001b[0m: "
     ]
    }
   ],
   "source": [
    "for i in tqdm_notebook(msceleb_df.index):\n",
    "    name = msceleb_df.loc[i, \"name\"]\n",
    "    doc = {'name':name}\n",
    "    es.index(index='msceleb', doc_type='document', body=doc, id=i)"
   ]
  },
  {
   "cell_type": "code",
   "execution_count": 119,
   "metadata": {
    "ExecuteTime": {
     "end_time": "2020-01-06T21:26:53.302478Z",
     "start_time": "2020-01-06T21:26:51.287231Z"
    },
    "collapsed": true
   },
   "outputs": [
    {
     "data": {
      "application/vnd.jupyter.widget-view+json": {
       "model_id": "67b52b7276d24137980a133f453a850a"
      }
     },
     "metadata": {},
     "output_type": "display_data"
    },
    {
     "ename": "KeyboardInterrupt",
     "evalue": "",
     "output_type": "error",
     "traceback": [
      "\u001b[0;31m---------------------------------------------------------------------------\u001b[0m",
      "\u001b[0;31mKeyboardInterrupt\u001b[0m                         Traceback (most recent call last)",
      "\u001b[0;32m<ipython-input-119-15d4b25a1b04>\u001b[0m in \u001b[0;36m<module>\u001b[0;34m()\u001b[0m\n\u001b[1;32m      3\u001b[0m \u001b[0mdocs\u001b[0m \u001b[0;34m=\u001b[0m \u001b[0;34m[\u001b[0m\u001b[0;34m]\u001b[0m\u001b[0;34m\u001b[0m\u001b[0;34m\u001b[0m\u001b[0m\n\u001b[1;32m      4\u001b[0m \u001b[0;32mfor\u001b[0m \u001b[0mi\u001b[0m \u001b[0;32min\u001b[0m \u001b[0mtqdm_notebook\u001b[0m\u001b[0;34m(\u001b[0m\u001b[0mmsceleb_df\u001b[0m\u001b[0;34m.\u001b[0m\u001b[0mindex\u001b[0m\u001b[0;34m)\u001b[0m\u001b[0;34m:\u001b[0m\u001b[0;34m\u001b[0m\u001b[0;34m\u001b[0m\u001b[0m\n\u001b[0;32m----> 5\u001b[0;31m     \u001b[0mname\u001b[0m\u001b[0;34m,\u001b[0m \u001b[0m_id\u001b[0m \u001b[0;34m=\u001b[0m \u001b[0mmsceleb_df\u001b[0m\u001b[0;34m.\u001b[0m\u001b[0mloc\u001b[0m\u001b[0;34m[\u001b[0m\u001b[0mi\u001b[0m\u001b[0;34m,\u001b[0m \u001b[0;34m[\u001b[0m\u001b[0;34m\"name\"\u001b[0m\u001b[0;34m,\u001b[0m \u001b[0;34m\"id\"\u001b[0m\u001b[0;34m]\u001b[0m\u001b[0;34m]\u001b[0m\u001b[0;34m\u001b[0m\u001b[0;34m\u001b[0m\u001b[0m\n\u001b[0m\u001b[1;32m      6\u001b[0m     docs.append({\n\u001b[1;32m      7\u001b[0m                 \u001b[0;34m'_index'\u001b[0m\u001b[0;34m:\u001b[0m\u001b[0;34m'msceleb'\u001b[0m\u001b[0;34m,\u001b[0m\u001b[0;34m\u001b[0m\u001b[0;34m\u001b[0m\u001b[0m\n",
      "\u001b[0;32m/home/rohit/.local/lib/python3.6/site-packages/pandas/core/indexing.py\u001b[0m in \u001b[0;36m__getitem__\u001b[0;34m(self, key)\u001b[0m\n\u001b[1;32m   1416\u001b[0m                 \u001b[0;32mexcept\u001b[0m \u001b[0;34m(\u001b[0m\u001b[0mKeyError\u001b[0m\u001b[0;34m,\u001b[0m \u001b[0mIndexError\u001b[0m\u001b[0;34m,\u001b[0m \u001b[0mAttributeError\u001b[0m\u001b[0;34m)\u001b[0m\u001b[0;34m:\u001b[0m\u001b[0;34m\u001b[0m\u001b[0;34m\u001b[0m\u001b[0m\n\u001b[1;32m   1417\u001b[0m                     \u001b[0;32mpass\u001b[0m\u001b[0;34m\u001b[0m\u001b[0;34m\u001b[0m\u001b[0m\n\u001b[0;32m-> 1418\u001b[0;31m             \u001b[0;32mreturn\u001b[0m \u001b[0mself\u001b[0m\u001b[0;34m.\u001b[0m\u001b[0m_getitem_tuple\u001b[0m\u001b[0;34m(\u001b[0m\u001b[0mkey\u001b[0m\u001b[0;34m)\u001b[0m\u001b[0;34m\u001b[0m\u001b[0;34m\u001b[0m\u001b[0m\n\u001b[0m\u001b[1;32m   1419\u001b[0m         \u001b[0;32melse\u001b[0m\u001b[0;34m:\u001b[0m\u001b[0;34m\u001b[0m\u001b[0;34m\u001b[0m\u001b[0m\n\u001b[1;32m   1420\u001b[0m             \u001b[0;31m# we by definition only have the 0th axis\u001b[0m\u001b[0;34m\u001b[0m\u001b[0;34m\u001b[0m\u001b[0;34m\u001b[0m\u001b[0m\n",
      "\u001b[0;32m/home/rohit/.local/lib/python3.6/site-packages/pandas/core/indexing.py\u001b[0m in \u001b[0;36m_getitem_tuple\u001b[0;34m(self, tup)\u001b[0m\n\u001b[1;32m    803\u001b[0m     \u001b[0;32mdef\u001b[0m \u001b[0m_getitem_tuple\u001b[0m\u001b[0;34m(\u001b[0m\u001b[0mself\u001b[0m\u001b[0;34m,\u001b[0m \u001b[0mtup\u001b[0m\u001b[0;34m)\u001b[0m\u001b[0;34m:\u001b[0m\u001b[0;34m\u001b[0m\u001b[0;34m\u001b[0m\u001b[0m\n\u001b[1;32m    804\u001b[0m         \u001b[0;32mtry\u001b[0m\u001b[0;34m:\u001b[0m\u001b[0;34m\u001b[0m\u001b[0;34m\u001b[0m\u001b[0m\n\u001b[0;32m--> 805\u001b[0;31m             \u001b[0;32mreturn\u001b[0m \u001b[0mself\u001b[0m\u001b[0;34m.\u001b[0m\u001b[0m_getitem_lowerdim\u001b[0m\u001b[0;34m(\u001b[0m\u001b[0mtup\u001b[0m\u001b[0;34m)\u001b[0m\u001b[0;34m\u001b[0m\u001b[0;34m\u001b[0m\u001b[0m\n\u001b[0m\u001b[1;32m    806\u001b[0m         \u001b[0;32mexcept\u001b[0m \u001b[0mIndexingError\u001b[0m\u001b[0;34m:\u001b[0m\u001b[0;34m\u001b[0m\u001b[0;34m\u001b[0m\u001b[0m\n\u001b[1;32m    807\u001b[0m             \u001b[0;32mpass\u001b[0m\u001b[0;34m\u001b[0m\u001b[0;34m\u001b[0m\u001b[0m\n",
      "\u001b[0;32m/home/rohit/.local/lib/python3.6/site-packages/pandas/core/indexing.py\u001b[0m in \u001b[0;36m_getitem_lowerdim\u001b[0;34m(self, tup)\u001b[0m\n\u001b[1;32m    911\u001b[0m \u001b[0;34m\u001b[0m\u001b[0m\n\u001b[1;32m    912\u001b[0m         \u001b[0;31m# we maybe be using a tuple to represent multiple dimensions here\u001b[0m\u001b[0;34m\u001b[0m\u001b[0;34m\u001b[0m\u001b[0;34m\u001b[0m\u001b[0m\n\u001b[0;32m--> 913\u001b[0;31m         \u001b[0max0\u001b[0m \u001b[0;34m=\u001b[0m \u001b[0mself\u001b[0m\u001b[0;34m.\u001b[0m\u001b[0mobj\u001b[0m\u001b[0;34m.\u001b[0m\u001b[0m_get_axis\u001b[0m\u001b[0;34m(\u001b[0m\u001b[0;36m0\u001b[0m\u001b[0;34m)\u001b[0m\u001b[0;34m\u001b[0m\u001b[0;34m\u001b[0m\u001b[0m\n\u001b[0m\u001b[1;32m    914\u001b[0m         \u001b[0;31m# ...but iloc should handle the tuple as simple integer-location\u001b[0m\u001b[0;34m\u001b[0m\u001b[0;34m\u001b[0m\u001b[0;34m\u001b[0m\u001b[0m\n\u001b[1;32m    915\u001b[0m         \u001b[0;31m# instead of checking it as multiindex representation (GH 13797)\u001b[0m\u001b[0;34m\u001b[0m\u001b[0;34m\u001b[0m\u001b[0;34m\u001b[0m\u001b[0m\n",
      "\u001b[0;32m/home/rohit/.local/lib/python3.6/site-packages/pandas/core/generic.py\u001b[0m in \u001b[0;36m_get_axis\u001b[0;34m(self, axis)\u001b[0m\n\u001b[1;32m    425\u001b[0m \u001b[0;34m\u001b[0m\u001b[0m\n\u001b[1;32m    426\u001b[0m     \u001b[0;32mdef\u001b[0m \u001b[0m_get_axis\u001b[0m\u001b[0;34m(\u001b[0m\u001b[0mself\u001b[0m\u001b[0;34m,\u001b[0m \u001b[0maxis\u001b[0m\u001b[0;34m)\u001b[0m\u001b[0;34m:\u001b[0m\u001b[0;34m\u001b[0m\u001b[0;34m\u001b[0m\u001b[0m\n\u001b[0;32m--> 427\u001b[0;31m         \u001b[0mname\u001b[0m \u001b[0;34m=\u001b[0m \u001b[0mself\u001b[0m\u001b[0;34m.\u001b[0m\u001b[0m_get_axis_name\u001b[0m\u001b[0;34m(\u001b[0m\u001b[0maxis\u001b[0m\u001b[0;34m)\u001b[0m\u001b[0;34m\u001b[0m\u001b[0;34m\u001b[0m\u001b[0m\n\u001b[0m\u001b[1;32m    428\u001b[0m         \u001b[0;32mreturn\u001b[0m \u001b[0mgetattr\u001b[0m\u001b[0;34m(\u001b[0m\u001b[0mself\u001b[0m\u001b[0;34m,\u001b[0m \u001b[0mname\u001b[0m\u001b[0;34m)\u001b[0m\u001b[0;34m\u001b[0m\u001b[0;34m\u001b[0m\u001b[0m\n\u001b[1;32m    429\u001b[0m \u001b[0;34m\u001b[0m\u001b[0m\n",
      "\u001b[0;31mKeyboardInterrupt\u001b[0m: "
     ]
    }
   ],
   "source": [
    "# Index MS Celeb\n",
    "\n",
    "docs = []\n",
    "for i in tqdm_notebook(msceleb_df.index):\n",
    "    name, _id = msceleb_df.loc[i, [\"name\", \"id\"]]\n",
    "    docs.append({\n",
    "                '_index':'msceleb',\n",
    "                '_type':'document',\n",
    "                '_id':_id,\n",
    "                '_source':{'name':name}\n",
    "            })\n",
    "    if len(docs)==1000:\n",
    "        helpers.bulk(es, docs)\n",
    "        docs = []\n",
    "if docs:\n",
    "    helpers.bulk(es, docs)\n",
    "    docs = []"
   ]
  },
  {
   "cell_type": "code",
   "execution_count": 118,
   "metadata": {
    "ExecuteTime": {
     "end_time": "2020-01-06T21:26:20.461084Z",
     "start_time": "2020-01-06T21:26:18.183689Z"
    }
   },
   "outputs": [
    {
     "data": {
      "application/vnd.jupyter.widget-view+json": {
       "model_id": "fbb451649e8e4f5f8d80c074a61fa8e6"
      }
     },
     "metadata": {},
     "output_type": "display_data"
    },
    {
     "name": "stdout",
     "output_type": "stream",
     "text": [
      "\n"
     ]
    }
   ],
   "source": [
    "# Index VGG Face\n",
    "\n",
    "docs = []\n",
    "for i in tqdm_notebook(vggface_df.index):\n",
    "    name, _id = vggface_df.loc[i, \"name\"], i\n",
    "    docs.append({\n",
    "                '_index':'vggface',\n",
    "                '_type':'document',\n",
    "                '_id':_id,\n",
    "                '_source':{'name':name}\n",
    "            })\n",
    "    if len(docs)==1000:\n",
    "        helpers.bulk(es, docs)\n",
    "        docs = []\n",
    "if docs:\n",
    "    helpers.bulk(es, docs)\n",
    "    docs = []"
   ]
  },
  {
   "cell_type": "code",
   "execution_count": 142,
   "metadata": {
    "ExecuteTime": {
     "end_time": "2020-01-06T21:45:35.138839Z",
     "start_time": "2020-01-06T21:45:15.773448Z"
    }
   },
   "outputs": [
    {
     "data": {
      "application/vnd.jupyter.widget-view+json": {
       "model_id": "f131a6d4916c42dbbcfe5e9e7598860f"
      }
     },
     "metadata": {},
     "output_type": "display_data"
    },
    {
     "name": "stdout",
     "output_type": "stream",
     "text": [
      "\n"
     ]
    }
   ],
   "source": [
    "# Index Webface Face\n",
    "\n",
    "docs = []\n",
    "for i in tqdm_notebook(webface_df.index):\n",
    "    name, _id = webface_df.loc[i, [\"name\", \"id\"]]\n",
    "    docs.append({\n",
    "                '_index':'webface',\n",
    "                '_type':'document',\n",
    "                '_id':_id,\n",
    "                '_source':{'name':name}\n",
    "            })\n",
    "    if len(docs)==1000:\n",
    "        helpers.bulk(es, docs)\n",
    "        docs = []\n",
    "if docs:\n",
    "    helpers.bulk(es, docs)\n",
    "    docs = []"
   ]
  },
  {
   "cell_type": "code",
   "execution_count": 8,
   "metadata": {
    "ExecuteTime": {
     "end_time": "2020-01-18T19:43:33.122551Z",
     "start_time": "2020-01-18T19:43:33.106711Z"
    }
   },
   "outputs": [
    {
     "data": {
      "text/html": [
       "<div>\n",
       "<style scoped>\n",
       "    .dataframe tbody tr th:only-of-type {\n",
       "        vertical-align: middle;\n",
       "    }\n",
       "\n",
       "    .dataframe tbody tr th {\n",
       "        vertical-align: top;\n",
       "    }\n",
       "\n",
       "    .dataframe thead th {\n",
       "        text-align: right;\n",
       "    }\n",
       "</style>\n",
       "<table border=\"1\" class=\"dataframe\">\n",
       "  <thead>\n",
       "    <tr style=\"text-align: right;\">\n",
       "      <th></th>\n",
       "      <th>source_db</th>\n",
       "      <th>id</th>\n",
       "      <th>name</th>\n",
       "      <th>first</th>\n",
       "      <th>last</th>\n",
       "    </tr>\n",
       "  </thead>\n",
       "  <tbody>\n",
       "    <tr>\n",
       "      <th>0</th>\n",
       "      <td>msceleb</td>\n",
       "      <td>000001.jpg</td>\n",
       "      <td>Elizabeth Gutierrez</td>\n",
       "      <td>Elizabeth</td>\n",
       "      <td>Gutierrez</td>\n",
       "    </tr>\n",
       "    <tr>\n",
       "      <th>1</th>\n",
       "      <td>msceleb</td>\n",
       "      <td>000002.jpg</td>\n",
       "      <td>Emilia Fox</td>\n",
       "      <td>Emilia</td>\n",
       "      <td>Fox</td>\n",
       "    </tr>\n",
       "  </tbody>\n",
       "</table>\n",
       "</div>"
      ],
      "text/plain": [
       "  source_db          id                 name      first       last\n",
       "0   msceleb  000001.jpg  Elizabeth Gutierrez  Elizabeth  Gutierrez\n",
       "1   msceleb  000002.jpg           Emilia Fox     Emilia        Fox"
      ]
     },
     "execution_count": 8,
     "metadata": {},
     "output_type": "execute_result"
    }
   ],
   "source": [
    "celeba_df.head(2)"
   ]
  },
  {
   "cell_type": "code",
   "execution_count": 11,
   "metadata": {
    "ExecuteTime": {
     "end_time": "2020-01-18T19:46:23.998923Z",
     "start_time": "2020-01-18T19:44:29.455349Z"
    }
   },
   "outputs": [
    {
     "name": "stderr",
     "output_type": "stream",
     "text": [
      "/home/rp/dev/lib/python3.6/site-packages/ipykernel_launcher.py:4: TqdmDeprecationWarning: This function will be removed in tqdm==5.0.0\n",
      "Please use `tqdm.notebook.tqdm` instead of `tqdm.tqdm_notebook`\n",
      "  after removing the cwd from sys.path.\n"
     ]
    },
    {
     "data": {
      "application/vnd.jupyter.widget-view+json": {
       "model_id": "dd22f914f279451ba97abb32f917a2d1",
       "version_major": 2,
       "version_minor": 0
      },
      "text/plain": [
       "HBox(children=(FloatProgress(value=0.0, max=202599.0), HTML(value='')))"
      ]
     },
     "metadata": {},
     "output_type": "display_data"
    },
    {
     "name": "stdout",
     "output_type": "stream",
     "text": [
      "\n"
     ]
    }
   ],
   "source": [
    "# Index CelebA Face\n",
    "\n",
    "docs = []\n",
    "for i in tqdm_notebook(celeba_df.index):\n",
    "    name, _id = celeba_df.loc[i, [\"name\", \"id\"]]\n",
    "    docs.append({\n",
    "                '_index':'celeba',\n",
    "                '_type':'document',\n",
    "                '_id':_id,\n",
    "                '_source':{'name':name}\n",
    "            })\n",
    "    if len(docs)==1000:\n",
    "        helpers.bulk(es, docs)\n",
    "        docs = []\n",
    "if docs:\n",
    "    helpers.bulk(es, docs)\n",
    "    docs = []"
   ]
  },
  {
   "cell_type": "markdown",
   "metadata": {},
   "source": [
    "### Find Overlap"
   ]
  },
  {
   "cell_type": "code",
   "execution_count": 16,
   "metadata": {
    "ExecuteTime": {
     "end_time": "2020-01-18T19:48:08.044970Z",
     "start_time": "2020-01-18T19:47:43.330084Z"
    }
   },
   "outputs": [
    {
     "name": "stderr",
     "output_type": "stream",
     "text": [
      "/home/rp/dev/lib/python3.6/site-packages/ipykernel_launcher.py:3: TqdmDeprecationWarning: This function will be removed in tqdm==5.0.0\n",
      "Please use `tqdm.notebook.tqdm` instead of `tqdm.tqdm_notebook`\n",
      "  This is separate from the ipykernel package so we can avoid doing imports until\n"
     ]
    },
    {
     "data": {
      "application/vnd.jupyter.widget-view+json": {
       "model_id": "3a69436ee8af4ef0935e65fbb8655d8e",
       "version_major": 2,
       "version_minor": 0
      },
      "text/plain": [
       "HBox(children=(FloatProgress(value=0.0, max=5267.0), HTML(value='')))"
      ]
     },
     "metadata": {},
     "output_type": "display_data"
    },
    {
     "name": "stdout",
     "output_type": "stream",
     "text": [
      "\n"
     ]
    }
   ],
   "source": [
    "overlap_df = pd.DataFrame(columns=['db1', 'db2', 'fid.mid', 'db2.id', 'name1', 'name2', 'confidence'])\n",
    "\n",
    "for i in tqdm_notebook(fiw_df.index):\n",
    "    first, last, gender, name, fid, mid = fiw_df.loc[i, ['first', 'last', 'gender', 'name', 'fid', 'mid']]\n",
    "    body = {'query':{'bool':\n",
    "                     {\n",
    "                         'should':[{\"match\":{'name':first}}, {\"match\":{'name':last}}]\n",
    "                     }\n",
    "                    }}\n",
    "    resp = es.search(index='celeba', body=body)['hits']['hits']\n",
    "    for r in resp:\n",
    "        name2 = r['_source']['name']\n",
    "        conf = get_confidence(name, name2)\n",
    "        if conf > 0.9:\n",
    "            overlap_df.loc[len(overlap_df)] = 'fiw', 'celeba', f'{fid}.{mid}', r['_id'], name, name2, conf\n"
   ]
  },
  {
   "cell_type": "raw",
   "metadata": {
    "ExecuteTime": {
     "end_time": "2020-01-06T21:29:47.327100Z",
     "start_time": "2020-01-06T21:29:47.319940Z"
    }
   },
   "source": [
    "overlap_df.to_csv('vggface_fiw_name_overlap.csv', index=None)"
   ]
  },
  {
   "cell_type": "raw",
   "metadata": {
    "ExecuteTime": {
     "end_time": "2020-01-06T21:15:28.723072Z",
     "start_time": "2020-01-06T21:15:28.405527Z"
    }
   },
   "source": [
    "overlap_df.to_csv('msceleb_fiw_name_overlap.csv', index=None)"
   ]
  },
  {
   "cell_type": "raw",
   "metadata": {
    "ExecuteTime": {
     "end_time": "2020-01-06T21:47:03.560478Z",
     "start_time": "2020-01-06T21:47:03.283871Z"
    }
   },
   "source": [
    "overlap_df.to_csv('webface_fiw_name_overlap.csv', index=None)"
   ]
  },
  {
   "cell_type": "code",
   "execution_count": 44,
   "metadata": {
    "ExecuteTime": {
     "end_time": "2020-01-18T20:03:24.157143Z",
     "start_time": "2020-01-18T20:03:24.097542Z"
    }
   },
   "outputs": [],
   "source": [
    "overlap_df['label'] = overlap_df.apply(lambda x:x['confidence']>=0.96, axis=1)"
   ]
  },
  {
   "cell_type": "code",
   "execution_count": 87,
   "metadata": {
    "ExecuteTime": {
     "end_time": "2020-01-18T20:20:58.803737Z",
     "start_time": "2020-01-18T20:20:58.798417Z"
    }
   },
   "outputs": [],
   "source": [
    "def get_celebA_images(name):\n",
    "    indices = overlap_df.query(f'name2==@name').index\n",
    "    \n",
    "    fig, ax = plt.subplots(1, 7, figsize=(15, 15))\n",
    "    path = '../celebA/img_align_celeba/'\n",
    "    for i in range(7):\n",
    "        img_name = overlap_df.loc[indices[i%len(indices)], 'db2.id']\n",
    "        img = np.array(Image.open(path+img_name))\n",
    "        ax[i].imshow(img)\n",
    "    plt.show()\n",
    "    \n",
    "    return indices\n",
    "        \n",
    "    "
   ]
  },
  {
   "cell_type": "code",
   "execution_count": 98,
   "metadata": {
    "ExecuteTime": {
     "end_time": "2020-01-18T20:38:37.782899Z",
     "start_time": "2020-01-18T20:25:01.084504Z"
    }
   },
   "outputs": [],
   "source": [
    "for i in temp_celeba.index:\n",
    "    fid_mid, db2_id, name1, name2 = temp_celeba.loc[i, ['fid.mid', 'db2.id', 'name1', 'name2']]\n",
    "    fid, mid = fid_mid.split('.')\n",
    "    display_images(f'../fiw_plus_vgg-cropped/{fid}/MID{mid}/')\n",
    "    db2_indices = get_celebA_images(name2)\n",
    "    print(name1)\n",
    "    print(name2)\n",
    "    if input()=='1':\n",
    "        for j in db2_indices:\n",
    "            overlap_df.loc[j, 'label'] = True\n",
    "    clear_output()"
   ]
  },
  {
   "cell_type": "code",
   "execution_count": 134,
   "metadata": {
    "ExecuteTime": {
     "end_time": "2020-01-18T21:23:32.099067Z",
     "start_time": "2020-01-18T21:23:32.074777Z"
    }
   },
   "outputs": [
    {
     "data": {
      "image/png": "[encoded data removed]",
      "text/plain": [
       "<PIL.JpegImagePlugin.JpegImageFile image mode=RGB size=178x218 at 0x7F21C1559F60>"
      ]
     },
     "execution_count": 134,
     "metadata": {},
     "output_type": "execute_result"
    }
   ],
   "source": [
    "Image.open('../celebA/img_align_celeba/018726.jpg')"
   ]
  },
  {
   "cell_type": "code",
   "execution_count": 133,
   "metadata": {
    "ExecuteTime": {
     "end_time": "2020-01-18T21:23:26.980261Z",
     "start_time": "2020-01-18T21:23:26.316157Z"
    }
   },
   "outputs": [
    {
     "data": {
      "image/png": "[encoded data removed]",
      "text/plain": [
       "<Figure size 1080x1080 with 7 Axes>"
      ]
     },
     "metadata": {
      "needs_background": "light"
     },
     "output_type": "display_data"
    }
   ],
   "source": [
    "display_images('../fiw_plus_vgg-cropped/F0077/MID1/')"
   ]
  },
  {
   "cell_type": "code",
   "execution_count": null,
   "metadata": {},
   "outputs": [],
   "source": []
  },
  {
   "cell_type": "markdown",
   "metadata": {},
   "source": [
    "### Match Faces"
   ]
  },
  {
   "cell_type": "code",
   "execution_count": 39,
   "metadata": {
    "ExecuteTime": {
     "end_time": "2019-11-27T16:14:50.527358Z",
     "start_time": "2019-11-27T16:14:50.522036Z"
    }
   },
   "outputs": [],
   "source": [
    "def match_faces(img_dir1, img_dir2):\n",
    "    features1_paths = glob.glob(f'{img_dir1}/P*.pkl')\n",
    "    features2_paths = glob.glob(f'{img_dir2}/.mat')"
   ]
  },
  {
   "cell_type": "code",
   "execution_count": 40,
   "metadata": {
    "ExecuteTime": {
     "end_time": "2019-11-27T16:14:55.545007Z",
     "start_time": "2019-11-27T16:14:55.409877Z"
    }
   },
   "outputs": [],
   "source": [
    "from matplotlib import pyplot as plt"
   ]
  },
  {
   "cell_type": "code",
   "execution_count": 41,
   "metadata": {
    "ExecuteTime": {
     "end_time": "2019-11-27T16:14:56.457861Z",
     "start_time": "2019-11-27T16:14:56.453036Z"
    }
   },
   "outputs": [],
   "source": [
    "from PIL import Image"
   ]
  },
  {
   "cell_type": "raw",
   "metadata": {},
   "source": [
    "def show_subplot(x, cols=7):\n",
    "    '''\n",
    "    shows cols number of pictures from x, used in compare identities function\n",
    "    x is a list of images\n",
    "    '''\n",
    "    fig, ax = plt.subplots(1, cols, )\n",
    "    for i in range(7):\n",
    "        ax[i].imshow(np.array(x[i%len(x)]))\n",
    "    plt.show()"
   ]
  },
  {
   "cell_type": "code",
   "execution_count": 78,
   "metadata": {
    "ExecuteTime": {
     "end_time": "2020-01-18T20:14:52.433047Z",
     "start_time": "2020-01-18T20:14:52.417312Z"
    },
    "code_folding": [
     1,
     3
    ]
   },
   "outputs": [],
   "source": [
    "def display_images(path):\n",
    "    if not os.path.isdir(path):\n",
    "        path = re.sub(r'_(?!.*_)', r'__', path)\n",
    "        if os.path.isdir(path):\n",
    "            pass\n",
    "        else:\n",
    "            return None\n",
    "        \n",
    "    files = os.listdir(path)\n",
    "    files = list(filter(lambda x:'jpg' in x, files))\n",
    "    fig, ax = plt.subplots(1, 7, figsize=(15, 15))\n",
    "    for i in range(7):\n",
    "        img = np.array(Image.open(path+files[i%len(files)]))\n",
    "        ax[i].imshow(img)\n",
    "    plt.show()"
   ]
  },
  {
   "cell_type": "code",
   "execution_count": 50,
   "metadata": {
    "ExecuteTime": {
     "end_time": "2019-11-27T16:17:01.011562Z",
     "start_time": "2019-11-27T16:17:01.006055Z"
    }
   },
   "outputs": [],
   "source": [
    "from IPython.display import clear_output\n",
    "import os"
   ]
  },
  {
   "cell_type": "code",
   "execution_count": 51,
   "metadata": {
    "ExecuteTime": {
     "end_time": "2019-11-27T16:17:01.195784Z",
     "start_time": "2019-11-27T16:17:01.190535Z"
    }
   },
   "outputs": [],
   "source": [
    "overlap_df['label'] = 0"
   ]
  },
  {
   "cell_type": "code",
   "execution_count": 55,
   "metadata": {
    "ExecuteTime": {
     "end_time": "2019-11-27T16:44:21.715023Z",
     "start_time": "2019-11-27T16:20:41.733161Z"
    }
   },
   "outputs": [],
   "source": [
    "for i in overlap_df.index:\n",
    "    fid, mid, name1, name2, conf = overlap_df.loc[i, ['fid', 'mid', 'name1', 'name2', 'confidence']]\n",
    "    img_dir1 = f'../fiw_plus_vgg-cropped/{fid}/MID{mid}/'\n",
    "    display_images(img_dir1)\n",
    "    img_dir2 = f101_df.query('name==@name2').iloc[0]['path'] + '/'\n",
    "#     img_dir2 = f'../FIW_DB_restructuring/family_101/Family101_150x120/{name2_family_name}/{\"_\".join([x.capitalize() for x in name2.split()])}/'\n",
    "    display_images(img_dir2)\n",
    "    print(i, ': ', name1, '|', name2, '|', conf)\n",
    "    label = input()\n",
    "    if label=='1':\n",
    "        overlap_df.loc[i, 'label'] = 1\n",
    "    clear_output()"
   ]
  },
  {
   "cell_type": "code",
   "execution_count": 81,
   "metadata": {
    "ExecuteTime": {
     "end_time": "2019-11-27T17:13:25.946782Z",
     "start_time": "2019-11-27T17:13:25.811777Z"
    }
   },
   "outputs": [],
   "source": [
    "for i in overlap_df.index:\n",
    "    overlap_df.loc[i, 'db2_imgdir_path'] = f101_df.loc[int(overlap_df.loc[i, 'db2.id']), 'path']"
   ]
  },
  {
   "cell_type": "raw",
   "metadata": {
    "ExecuteTime": {
     "end_time": "2019-11-27T16:48:23.971112Z",
     "start_time": "2019-11-27T16:48:23.961541Z"
    }
   },
   "source": [
    "overlap_df[overlap_df.label==1].to_csv('fiw_f101_overlap.csv', index=None)"
   ]
  },
  {
   "cell_type": "code",
   "execution_count": 82,
   "metadata": {
    "ExecuteTime": {
     "end_time": "2019-11-27T17:13:28.939326Z",
     "start_time": "2019-11-27T17:13:28.895389Z"
    }
   },
   "outputs": [
    {
     "data": {
      "text/html": [
       "<div>\n",
       "<style scoped>\n",
       "    .dataframe tbody tr th:only-of-type {\n",
       "        vertical-align: middle;\n",
       "    }\n",
       "\n",
       "    .dataframe tbody tr th {\n",
       "        vertical-align: top;\n",
       "    }\n",
       "\n",
       "    .dataframe thead th {\n",
       "        text-align: right;\n",
       "    }\n",
       "</style>\n",
       "<table border=\"1\" class=\"dataframe\">\n",
       "  <thead>\n",
       "    <tr style=\"text-align: right;\">\n",
       "      <th></th>\n",
       "      <th>db1</th>\n",
       "      <th>db2</th>\n",
       "      <th>fid</th>\n",
       "      <th>mid</th>\n",
       "      <th>db2.id</th>\n",
       "      <th>name1</th>\n",
       "      <th>name2</th>\n",
       "      <th>confidence</th>\n",
       "      <th>label</th>\n",
       "      <th>db2_imgdir_path</th>\n",
       "    </tr>\n",
       "  </thead>\n",
       "  <tbody>\n",
       "    <tr>\n",
       "      <td>0</td>\n",
       "      <td>fiw</td>\n",
       "      <td>family101</td>\n",
       "      <td>F0007</td>\n",
       "      <td>1</td>\n",
       "      <td>94</td>\n",
       "      <td>bhumibol adulyadej</td>\n",
       "      <td>bhumibol adulyadej</td>\n",
       "      <td>1</td>\n",
       "      <td>1</td>\n",
       "      <td>../FIW_DB_restructuring/family_101/Family101_1...</td>\n",
       "    </tr>\n",
       "    <tr>\n",
       "      <td>1</td>\n",
       "      <td>fiw</td>\n",
       "      <td>family101</td>\n",
       "      <td>F0040</td>\n",
       "      <td>2</td>\n",
       "      <td>616</td>\n",
       "      <td>mackenzie astin</td>\n",
       "      <td>mackenzie astin</td>\n",
       "      <td>1</td>\n",
       "      <td>1</td>\n",
       "      <td>../FIW_DB_restructuring/family_101/Family101_1...</td>\n",
       "    </tr>\n",
       "    <tr>\n",
       "      <td>2</td>\n",
       "      <td>fiw</td>\n",
       "      <td>family101</td>\n",
       "      <td>F0040</td>\n",
       "      <td>3</td>\n",
       "      <td>614</td>\n",
       "      <td>sean astin</td>\n",
       "      <td>sean astin</td>\n",
       "      <td>1</td>\n",
       "      <td>1</td>\n",
       "      <td>../FIW_DB_restructuring/family_101/Family101_1...</td>\n",
       "    </tr>\n",
       "    <tr>\n",
       "      <td>3</td>\n",
       "      <td>fiw</td>\n",
       "      <td>family101</td>\n",
       "      <td>F0040</td>\n",
       "      <td>4</td>\n",
       "      <td>617</td>\n",
       "      <td>john astin</td>\n",
       "      <td>john astin</td>\n",
       "      <td>1</td>\n",
       "      <td>1</td>\n",
       "      <td>../FIW_DB_restructuring/family_101/Family101_1...</td>\n",
       "    </tr>\n",
       "    <tr>\n",
       "      <td>4</td>\n",
       "      <td>fiw</td>\n",
       "      <td>family101</td>\n",
       "      <td>F0058</td>\n",
       "      <td>1</td>\n",
       "      <td>31</td>\n",
       "      <td>drew barrymore</td>\n",
       "      <td>drew blyth barrymore</td>\n",
       "      <td>0.94</td>\n",
       "      <td>1</td>\n",
       "      <td>../FIW_DB_restructuring/family_101/Family101_1...</td>\n",
       "    </tr>\n",
       "    <tr>\n",
       "      <td>...</td>\n",
       "      <td>...</td>\n",
       "      <td>...</td>\n",
       "      <td>...</td>\n",
       "      <td>...</td>\n",
       "      <td>...</td>\n",
       "      <td>...</td>\n",
       "      <td>...</td>\n",
       "      <td>...</td>\n",
       "      <td>...</td>\n",
       "      <td>...</td>\n",
       "    </tr>\n",
       "    <tr>\n",
       "      <td>145</td>\n",
       "      <td>fiw</td>\n",
       "      <td>family101</td>\n",
       "      <td>F0802</td>\n",
       "      <td>3</td>\n",
       "      <td>557</td>\n",
       "      <td>jessie wilson</td>\n",
       "      <td>jessie woodrow wilson</td>\n",
       "      <td>0.94</td>\n",
       "      <td>1</td>\n",
       "      <td>../FIW_DB_restructuring/family_101/Family101_1...</td>\n",
       "    </tr>\n",
       "    <tr>\n",
       "      <td>147</td>\n",
       "      <td>fiw</td>\n",
       "      <td>family101</td>\n",
       "      <td>F0802</td>\n",
       "      <td>5</td>\n",
       "      <td>560</td>\n",
       "      <td>margaret wilson</td>\n",
       "      <td>margaret woodrow wilson</td>\n",
       "      <td>0.94</td>\n",
       "      <td>1</td>\n",
       "      <td>../FIW_DB_restructuring/family_101/Family101_1...</td>\n",
       "    </tr>\n",
       "    <tr>\n",
       "      <td>148</td>\n",
       "      <td>fiw</td>\n",
       "      <td>family101</td>\n",
       "      <td>F0809</td>\n",
       "      <td>1</td>\n",
       "      <td>59</td>\n",
       "      <td>tiger woods</td>\n",
       "      <td>tiger woods</td>\n",
       "      <td>1</td>\n",
       "      <td>1</td>\n",
       "      <td>../FIW_DB_restructuring/family_101/Family101_1...</td>\n",
       "    </tr>\n",
       "    <tr>\n",
       "      <td>149</td>\n",
       "      <td>fiw</td>\n",
       "      <td>family101</td>\n",
       "      <td>F0809</td>\n",
       "      <td>5</td>\n",
       "      <td>58</td>\n",
       "      <td>kutilda woods</td>\n",
       "      <td>kultida woods</td>\n",
       "      <td>0.923077</td>\n",
       "      <td>1</td>\n",
       "      <td>../FIW_DB_restructuring/family_101/Family101_1...</td>\n",
       "    </tr>\n",
       "    <tr>\n",
       "      <td>152</td>\n",
       "      <td>fiw</td>\n",
       "      <td>family101</td>\n",
       "      <td>F0910</td>\n",
       "      <td>1</td>\n",
       "      <td>9</td>\n",
       "      <td>martin scorsese</td>\n",
       "      <td>martin scorsese</td>\n",
       "      <td>1</td>\n",
       "      <td>1</td>\n",
       "      <td>../FIW_DB_restructuring/family_101/Family101_1...</td>\n",
       "    </tr>\n",
       "  </tbody>\n",
       "</table>\n",
       "<p>107 rows × 10 columns</p>\n",
       "</div>"
      ],
      "text/plain": [
       "     db1        db2    fid mid db2.id               name1  \\\n",
       "0    fiw  family101  F0007   1     94  bhumibol adulyadej   \n",
       "1    fiw  family101  F0040   2    616     mackenzie astin   \n",
       "2    fiw  family101  F0040   3    614          sean astin   \n",
       "3    fiw  family101  F0040   4    617          john astin   \n",
       "4    fiw  family101  F0058   1     31      drew barrymore   \n",
       "..   ...        ...    ...  ..    ...                 ...   \n",
       "145  fiw  family101  F0802   3    557       jessie wilson   \n",
       "147  fiw  family101  F0802   5    560     margaret wilson   \n",
       "148  fiw  family101  F0809   1     59         tiger woods   \n",
       "149  fiw  family101  F0809   5     58       kutilda woods   \n",
       "152  fiw  family101  F0910   1      9     martin scorsese   \n",
       "\n",
       "                       name2 confidence  label  \\\n",
       "0         bhumibol adulyadej          1      1   \n",
       "1            mackenzie astin          1      1   \n",
       "2                 sean astin          1      1   \n",
       "3                 john astin          1      1   \n",
       "4       drew blyth barrymore       0.94      1   \n",
       "..                       ...        ...    ...   \n",
       "145    jessie woodrow wilson       0.94      1   \n",
       "147  margaret woodrow wilson       0.94      1   \n",
       "148              tiger woods          1      1   \n",
       "149            kultida woods   0.923077      1   \n",
       "152          martin scorsese          1      1   \n",
       "\n",
       "                                       db2_imgdir_path  \n",
       "0    ../FIW_DB_restructuring/family_101/Family101_1...  \n",
       "1    ../FIW_DB_restructuring/family_101/Family101_1...  \n",
       "2    ../FIW_DB_restructuring/family_101/Family101_1...  \n",
       "3    ../FIW_DB_restructuring/family_101/Family101_1...  \n",
       "4    ../FIW_DB_restructuring/family_101/Family101_1...  \n",
       "..                                                 ...  \n",
       "145  ../FIW_DB_restructuring/family_101/Family101_1...  \n",
       "147  ../FIW_DB_restructuring/family_101/Family101_1...  \n",
       "148  ../FIW_DB_restructuring/family_101/Family101_1...  \n",
       "149  ../FIW_DB_restructuring/family_101/Family101_1...  \n",
       "152  ../FIW_DB_restructuring/family_101/Family101_1...  \n",
       "\n",
       "[107 rows x 10 columns]"
      ]
     },
     "execution_count": 82,
     "metadata": {},
     "output_type": "execute_result"
    }
   ],
   "source": [
    "overlap_df[overlap_df.label==1]"
   ]
  },
  {
   "cell_type": "code",
   "execution_count": 90,
   "metadata": {
    "ExecuteTime": {
     "end_time": "2019-11-27T17:15:44.408544Z",
     "start_time": "2019-11-27T17:15:44.401471Z"
    }
   },
   "outputs": [],
   "source": [
    "x = overlap_df[overlap_df.label==1]"
   ]
  },
  {
   "cell_type": "code",
   "execution_count": 91,
   "metadata": {
    "ExecuteTime": {
     "end_time": "2019-11-27T17:15:44.682451Z",
     "start_time": "2019-11-27T17:15:44.676407Z"
    }
   },
   "outputs": [
    {
     "name": "stderr",
     "output_type": "stream",
     "text": [
      "/usr/lib/python3/dist-packages/ipykernel_launcher.py:1: SettingWithCopyWarning: \n",
      "A value is trying to be set on a copy of a slice from a DataFrame.\n",
      "Try using .loc[row_indexer,col_indexer] = value instead\n",
      "\n",
      "See the caveats in the documentation: http://pandas.pydata.org/pandas-docs/stable/user_guide/indexing.html#returning-a-view-versus-a-copy\n",
      "  \"\"\"Entry point for launching an IPython kernel.\n"
     ]
    }
   ],
   "source": [
    "x['db2_imgdir_path'] = x.db2_imgdir_path.apply(lambda x: re.sub(r'.*FIW_DB_restructuring\\/', '', x))\n"
   ]
  }
 ],
 "metadata": {
  "kernelspec": {
   "display_name": "Python 3",
   "language": "python",
   "name": "python3"
  },
  "language_info": {
   "codemirror_mode": {
    "name": "ipython",
    "version": 3
   },
   "file_extension": ".py",
   "mimetype": "text/x-python",
   "name": "python",
   "nbconvert_exporter": "python",
   "pygments_lexer": "ipython3",
   "version": "3.6.9"
  },
  "toc": {
   "base_numbering": 1,
   "nav_menu": {},
   "number_sections": true,
   "sideBar": true,
   "skip_h1_title": false,
   "title_cell": "Table of Contents",
   "title_sidebar": "Contents",
   "toc_cell": false,
   "toc_position": {},
   "toc_section_display": true,
   "toc_window_display": false
  }
 },
 "nbformat": 4,
 "nbformat_minor": 2
}
